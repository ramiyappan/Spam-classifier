{
 "cells": [
  {
   "cell_type": "markdown",
   "metadata": {},
   "source": [
    "# Imports"
   ]
  },
  {
   "cell_type": "code",
   "execution_count": 1,
   "metadata": {},
   "outputs": [],
   "source": [
    "import math\n",
    "import matplotlib\n",
    "import matplotlib.pyplot as plt\n",
    "import numpy as np\n",
    "import pandas as pd"
   ]
  },
  {
   "cell_type": "markdown",
   "metadata": {},
   "source": [
    "# Functions"
   ]
  },
  {
   "cell_type": "code",
   "execution_count": 2,
   "metadata": {},
   "outputs": [],
   "source": [
    "def readMatrix(file):\n",
    "    fd = open(file, 'r')\n",
    "    hdr = fd.readline()\n",
    "    rows, cols = [int(s) for s in fd.readline().strip().split()]\n",
    "    tokens = fd.readline().strip().split()\n",
    "    matrix = np.zeros((rows, cols))\n",
    "    Y = []\n",
    "    for i, line in enumerate(fd):\n",
    "        nums = [int(x) for x in line.strip().split()]\n",
    "        Y.append(nums[0])\n",
    "        kv = np.array(nums[1:])\n",
    "        k = np.cumsum(kv[:-1:2])\n",
    "        v = kv[1::2]\n",
    "        matrix[i, k] = v\n",
    "    return matrix, tokens, np.array(Y)\n",
    "\n",
    "def nb_train(matrix, category):\n",
    "    state = {}\n",
    "    N = matrix.shape[1]\n",
    "    ###################\n",
    "    \n",
    "    spam = matrix[category==1]        # emails classified as spam\n",
    "    not_spam = matrix[category==0]    # emails classified as not spam\n",
    "\n",
    "    # (spam + alpha) / alpha * N + no. of words with category=spam\n",
    "    state['spam'] = (spam.sum(axis=0) + 1) / (np.sum(spam.sum(axis=1)) + N) #alpha = 1\n",
    "    state['notspam'] = (not_spam.sum(axis=0) + 1) / (np.sum(spam.sum(axis=1)) + N)\n",
    "    state['phi'] = spam.shape[0] / matrix.shape[0] # p(y=spam)\n",
    "    \n",
    "    ###################\n",
    "    return state\n",
    "\n",
    "def nb_test(matrix, state):\n",
    "    output = np.zeros(matrix.shape[0])\n",
    "    ###################\n",
    "\n",
    "    log_spam = np.sum( np.log(state['spam'])*matrix, axis = 1)\n",
    "    log_notspam = np.sum( np.log(state['notspam'])*matrix, axis = 1)\n",
    "    phi = state['phi']\n",
    "    \n",
    "    ratio = np.exp(log_notspam + np.log(1 - phi) - log_spam - np.log(phi))\n",
    "    probabilities = 1 / (1 + ratio)\n",
    "    \n",
    "    output[probabilities > 0.5] = 1\n",
    "    \n",
    "    ###################\n",
    "    return output\n",
    "\n",
    "def evaluate(output, label):\n",
    "    error = (output != label).sum() * 1. / len(output)\n",
    "    print('Error: %1.4f' % error)\n",
    "    return error"
   ]
  },
  {
   "cell_type": "markdown",
   "metadata": {},
   "source": [
    "# Get Data, Train & Test"
   ]
  },
  {
   "cell_type": "code",
   "execution_count": 3,
   "metadata": {},
   "outputs": [
    {
     "name": "stdout",
     "output_type": "stream",
     "text": [
      "Error: 0.0600\n"
     ]
    },
    {
     "data": {
      "text/plain": [
       "0.06"
      ]
     },
     "execution_count": 3,
     "metadata": {},
     "output_type": "execute_result"
    }
   ],
   "source": [
    "trainMatrix, tokenlist, trainCategory = readMatrix('MATRIX.TRAIN')\n",
    "testMatrix, tokenlist, testCategory = readMatrix('MATRIX.TEST')\n",
    "\n",
    "state = nb_train(trainMatrix, trainCategory)\n",
    "output = nb_test(testMatrix, state)\n",
    "\n",
    "evaluate(output, testCategory)\n"
   ]
  },
  {
   "cell_type": "markdown",
   "metadata": {},
   "source": [
    "# Finding 5 tokens with Largest Likelihood ratio"
   ]
  },
  {
   "cell_type": "code",
   "execution_count": 4,
   "metadata": {},
   "outputs": [
    {
     "name": "stdout",
     "output_type": "stream",
     "text": [
      "<--- tokens with largest likelihood ratio --->\n",
      "valet < ebai < unsubscrib < spam < httpaddr\n"
     ]
    }
   ],
   "source": [
    "#log(Pr[token=i|SPAM] / Pr[token=i|NOTSPAM])\n",
    "\n",
    "trainMatrix, tokenlist, trainCategory = readMatrix('MATRIX.TRAIN')\n",
    "tokenlist = np.array(tokenlist)\n",
    "state = nb_train(trainMatrix, trainCategory)\n",
    "\n",
    "token_idx = np.argsort(state['spam']/state['notspam'])[-5:]\n",
    "largest_likelihood_tokens = tokenlist[token_idx]\n",
    "print(\"<--- tokens with largest likelihood ratio --->\")\n",
    "print(' < '.join(largest_likelihood_tokens))\n",
    "#print(largest_likelihood_tokens)"
   ]
  },
  {
   "cell_type": "markdown",
   "metadata": {},
   "source": [
    "# Finding best Training-set size with lowest test error"
   ]
  },
  {
   "cell_type": "code",
   "execution_count": 5,
   "metadata": {},
   "outputs": [
    {
     "name": "stdout",
     "output_type": "stream",
     "text": [
      "Training size 100 : \n",
      "Error: 0.3275\n",
      "Training size 200 : \n",
      "Error: 0.1963\n",
      "Training size 400 : \n",
      "Error: 0.0788\n",
      "Training size 800 : \n",
      "Error: 0.0537\n"
     ]
    }
   ],
   "source": [
    "training_sizes = [100, 200, 400, 800]\n",
    "errors = []\n",
    "\n",
    "for i,size in enumerate(training_sizes):\n",
    "    trainMatrix, tokenlist, trainCategory = readMatrix('MATRIX.TRAIN.'+str(size))\n",
    "    state = nb_train(trainMatrix, trainCategory)\n",
    "    output = nb_test(testMatrix, state)\n",
    "    print(\"Training size\",size,': ')\n",
    "    errors.append(evaluate(output, testCategory))"
   ]
  },
  {
   "cell_type": "markdown",
   "metadata": {},
   "source": [
    "# Plotting learning curve (Training-set size Vs Test error)"
   ]
  },
  {
   "cell_type": "code",
   "execution_count": 6,
   "metadata": {},
   "outputs": [
    {
     "data": {
      "image/png": "[encoded data removed]",
      "text/plain": [
       "<Figure size 432x288 with 1 Axes>"
      ]
     },
     "metadata": {
      "needs_background": "light"
     },
     "output_type": "display_data"
    }
   ],
   "source": [
    "plt.plot(training_sizes, errors, 'go-', label='Error')\n",
    "plt.xlabel('Training Size')\n",
    "plt.ylabel('Test Error')\n",
    "plt.title('Training size Vs Test error')\n",
    "plt.legend()\n",
    "plt.show()"
   ]
  },
  {
   "cell_type": "markdown",
   "metadata": {},
   "source": [
    "* By visualizing the learning curve with different sizes of the training dataset, we can clearly see that \n",
    "    \n",
    "      MATRIX.TRAIN.800 gives the best test error of 0.0537"
   ]
  }
 ],
 "metadata": {
  "kernelspec": {
   "display_name": "Python 3.10.7 64-bit (microsoft store)",
   "language": "python",
   "name": "python3"
  },
  "language_info": {
   "codemirror_mode": {
    "name": "ipython",
    "version": 3
   },
   "file_extension": ".py",
   "mimetype": "text/x-python",
   "name": "python",
   "nbconvert_exporter": "python",
   "pygments_lexer": "ipython3",
   "version": "3.10.7"
  },
  "orig_nbformat": 4,
  "vscode": {
   "interpreter": {
    "hash": "502b735065de89421cf10aeafff594534290c9e1d6b63be991b466e4f41e3464"
   }
  }
 },
 "nbformat": 4,
 "nbformat_minor": 2
}
